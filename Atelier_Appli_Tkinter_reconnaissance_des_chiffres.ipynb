{
 "cells": [
  {
   "attachments": {
    "image.png": {
     "image/png": "[encoded data removed]"
    }
   },
   "cell_type": "markdown",
   "metadata": {},
   "source": [
    "# Partie 2\n",
    "\n",
    "Dans cet atelier vous allez apprendre à untiliser Tkinter pour réaliser l'interface de l'application.\n",
    "Cette interface va vous permettre de pouvoir tracer les chiffres de 0 à 9 à main levée, de voir le résultat prédit et le score que le pourcentage de certitude.\n",
    "\n",
    "\n",
    "![image.png](attachment:image.png)\n",
    "\n",
    "\n",
    "Les cellules sont exécutables, n'hésitez pas à faire des essais"
   ]
  },
  {
   "cell_type": "markdown",
   "metadata": {},
   "source": [
    "### Les widget Tkinter\n",
    "\n",
    "Pour créer un logiciel graphique vous devez dans une fenêtre, ajouter  des éléments graphiques que l'on nomme widget. Ce widget peut être tout aussi bien une liste déroulante que du texte. "
   ]
  },
  {
   "cell_type": "code",
   "execution_count": 2,
   "metadata": {},
   "outputs": [],
   "source": [
    "# coding: utf-8\n",
    " \n",
    "from tkinter import * \n",
    "\n",
    "fenetre = Tk() # création de l'objet Tkinter\n",
    "\n",
    "# création du widget voulu, le premier paramètre est obligatoire, c'est le widget parent\n",
    "label = Label(fenetre, text=\"Hello World\") \n",
    "label.pack() # ajout du widget à la fenêtre en utilisant la méthode pack()\n",
    "\n",
    "fenetre.mainloop() # lancement de la boucle principale (lancement de la fenêtre)"
   ]
  },
  {
   "cell_type": "markdown",
   "metadata": {},
   "source": [
    "### Les boutons\n",
    "\n",
    "Les boutons permettent de proposer une action à l'utilisateur. Dans l'exemple ci-dessous, on lui propose de fermer la fenêtre. "
   ]
  },
  {
   "cell_type": "code",
   "execution_count": 3,
   "metadata": {},
   "outputs": [],
   "source": [
    "# bouton de sortie\n",
    "\n",
    "fenetre = Tk() # création de l'objet Tkinter\n",
    "# création du widget voulu\n",
    "bouton=Button(fenetre, text=\"Fermer\", command=fenetre.destroy)#\"command\" sert à indiquer ce qui se passe lors du clic\n",
    "bouton.pack() # ajout du widget à la fenêtre en utilisant la méthode pack()\n",
    "\n",
    "fenetre.mainloop() # lancement de la boucle principale (lancement de la fenêtre)"
   ]
  },
  {
   "cell_type": "markdown",
   "metadata": {},
   "source": [
    "### Les labels\n",
    "\n",
    "Les labels sont des espaces prévus pour écrire du texte. Les labels servent souvent à décrire un widget comme un input "
   ]
  },
  {
   "cell_type": "code",
   "execution_count": 9,
   "metadata": {},
   "outputs": [],
   "source": [
    "# label\n",
    "\n",
    "fenetre = Tk() # création de l'objet Tkinter\n",
    "\n",
    "label = Label(fenetre, text=\"Texte par défaut\", bg=\"yellow\") # création du widget voulu\n",
    "label.pack() # ajout du widget à la fenêtre en utilisant la méthode pack()\n",
    "\n",
    "fenetre.mainloop() # lancement de la boucle principale (lancement de la fenêtre)"
   ]
  },
  {
   "cell_type": "markdown",
   "metadata": {},
   "source": [
    "### Canvas\n",
    "\n",
    "Un canvas (toile, tableau en français) est un espace dans lequel vous pouvez dessiner ou écrire ce que vous voulez: "
   ]
  },
  {
   "cell_type": "code",
   "execution_count": null,
   "metadata": {},
   "outputs": [],
   "source": [
    "# canvas\n",
    "\n",
    "fenetre = Tk() # création de l'objet Tkinter\n",
    "\n",
    "canvas = Canvas(fenetre, width=150, height=120, background='yellow') # création du widget voulu\n",
    "ligne1 = canvas.create_line(75, 0, 75, 120)\n",
    "ligne2 = canvas.create_line(0, 60, 150, 60)\n",
    "txt = canvas.create_text(75, 60, text=\"Cible\", font=\"Arial 16 italic\", fill=\"blue\")\n",
    "canvas.pack() # ajout du widget à la fenêtre en utilisant la méthode pack()\n",
    "\n",
    "fenetre.mainloop() # lancement de la boucle principale (lancement de la fenêtre)"
   ]
  },
  {
   "cell_type": "markdown",
   "metadata": {},
   "source": [
    "## Maintenant à vous de jouer\n",
    "\n",
    "Les principales fonctions sont présentées ici, à vous de les appeler au bon endroit et au bon moment, la première partie est uniquement explicative"
   ]
  },
  {
   "cell_type": "code",
   "execution_count": 10,
   "metadata": {},
   "outputs": [],
   "source": [
    "# importation des bibliothèques\n",
    "\n",
    "from PIL import Image, ImageDraw\n",
    "import tkinter as tk\n",
    "\n",
    "import numpy as np\n",
    "import tensorflow as tf\n",
    "\n",
    "import operator"
   ]
  },
  {
   "cell_type": "code",
   "execution_count": 11,
   "metadata": {},
   "outputs": [],
   "source": [
    "# définition des variables\n",
    "last_point = None\n",
    "\n",
    "width = 200  # largeur de la fenêtre\n",
    "height = 200 # hauteur de la fenêtre\n",
    "center = height//2 # calcul du centre\n",
    "black = (255, 255) # couleur du crayon\n",
    "white = (0, 255) # couleur du fond\n",
    "pen_width = 7 # largeur du crayon\n",
    "\n",
    "valid_rect_obj = None\n",
    "valid_rect = (width, height, 0, 0)\n",
    "\n",
    "sample_img_size = 28 # taille des images en pixels"
   ]
  },
  {
   "cell_type": "code",
   "execution_count": 12,
   "metadata": {},
   "outputs": [],
   "source": [
    "# chemin vers le model créer précédement\n",
    "checkpoint_path = 'models/model.{epoch:02d}-{val_loss:.2f}.ckpt'\n",
    "model = tf.keras.models.load_model(\"modele_chiffres_manuscrits\")"
   ]
  },
  {
   "cell_type": "code",
   "execution_count": null,
   "metadata": {},
   "outputs": [],
   "source": [
    "# fonction principale, qui permet la détection des chiffres, elle ne prend pas de parametres\n",
    "def recognize():\n",
    "    # crop image\n",
    "    global valid_rect\n",
    "    valid_w = valid_rect[2] - valid_rect[0]\n",
    "    valid_h = valid_rect[3] - valid_rect[1]\n",
    "    # newsize = max(valid_w, valid_h)\n",
    "    if valid_w > valid_h:\n",
    "        valid_rect = (valid_rect[0], valid_rect[1] - (valid_w - valid_h)//2, valid_rect[2], valid_rect[3] + (valid_w - valid_h)//2)\n",
    "    else:\n",
    "        valid_rect = (valid_rect[0] - (valid_h - valid_w)//2, valid_rect[1], valid_rect[2] + (valid_h - valid_w)//2, valid_rect[3])\n",
    "    margin = 4 * (100 // 28) + pen_width\n",
    "    valid_rect = tuple(map(operator.sub, valid_rect, (margin, margin, -margin, -margin)))\n",
    "\n",
    "    new_img = output_image.crop(valid_rect).resize((sample_img_size, sample_img_size), Image.LINEAR)\n",
    "    new_img.convert(\"RGB\").save(\"user_input.jpg\")\n",
    "    pixels = np.array(new_img.getdata(), np.float32)\n",
    "    pixels = pixels[:,0] / 255.0\n",
    "    pixels = np.reshape(pixels, [1, sample_img_size * sample_img_size])\n",
    "    \n",
    "    pixels =  pixels.reshape(-1,28,28,1)\n",
    "    \n",
    "    probabilities = model.predict(pixels, steps=1)\n",
    "\n",
    "    pred = np.argmax(probabilities, axis=1)\n",
    "\n",
    "    label.configure(text= str(pred))\n",
    "    proba.configure(text= str(probabilities[0, pred]))"
   ]
  },
  {
   "cell_type": "code",
   "execution_count": null,
   "metadata": {},
   "outputs": [],
   "source": [
    "def clear(): # fonction qui permet de reset le dessin\n",
    "    global last_point\n",
    "    global valid_rect\n",
    "    global valid_rect_obj\n",
    "    last_point = None\n",
    "    valid_rect = (width, height, 0, 0)\n",
    "    valid_rect_obj = None\n",
    "    canvas.delete(\"all\")\n",
    "    draw.rectangle((0, 0, width, height), white)"
   ]
  },
  {
   "cell_type": "code",
   "execution_count": null,
   "metadata": {},
   "outputs": [],
   "source": [
    "def buttonRelease(event): # fonction qui permet de reset la capture du dessin\n",
    "    global last_point\n",
    "    last_point = None"
   ]
  },
  {
   "cell_type": "code",
   "execution_count": null,
   "metadata": {},
   "outputs": [],
   "source": [
    "# fonction qui permet de capturer la zone de dessin\n",
    "def buttonMotion(event):\n",
    "    global last_point\n",
    "    global valid_rect\n",
    "    global valid_rect_obj\n",
    "    if last_point is not None:\n",
    "        last_x = last_point[0]\n",
    "        last_y = last_point[1]\n",
    "        canvas.create_line(last_x, last_y, event.x, event.y, fill=\"black\", width = pen_width)\n",
    "        draw.line([last_x, last_y, event.x, event.y], fill=black, width = pen_width)\n",
    "    last_point = (event.x, event.y)\n",
    "    valid_rect = (min(valid_rect[0], event.x), min(valid_rect[1], event.y),max(valid_rect[2], event.x), max(valid_rect[3], event.y))\n",
    "    if valid_rect_obj is not None:\n",
    "        canvas.delete(valid_rect_obj)    \n",
    "    valid_rect_obj = canvas.create_rectangle(valid_rect)"
   ]
  },
  {
   "cell_type": "markdown",
   "metadata": {},
   "source": [
    "## C'est à vous"
   ]
  },
  {
   "cell_type": "code",
   "execution_count": null,
   "metadata": {},
   "outputs": [],
   "source": [
    "# création de l'objet Tkinter\n",
    "fenetre = tk.Tk()\n",
    "\n",
    "# création de la fenêtre de dessin de Tkinter\n",
    "canvas = tk.Canvas(fenetre, width=width, height=height, bg='white')\n",
    "canvas.pack()\n",
    "\n",
    "\n",
    "# créer une image PIL vide et créer un objet sur lequel dessiner\n",
    "output_image = Image.new(\"LA\", (width, height), color = white)\n",
    "draw = ImageDraw.Draw(output_image)\n",
    "canvas.pack(expand=YES, fill=BOTH)\n",
    "\n",
    "# action effectuée quand l'utilisateur apuis sur le bouton gauche de sa souris\n",
    "canvas.bind(\"<B1-Motion>\", ????????)\n",
    "\n",
    "# action affectuée quand l'utilisateur lâche le bouton gauche de sa souris\n",
    "canvas.bind(\"<ButtonRelease-1>\", ?????????)\n",
    "\n",
    "# affichage de la réponse\n",
    "label = tk.Label(text=\"Thinking..\", font=(\"Helvetica\", 30))\n",
    "label.pack()\n",
    "\n",
    "# affichage de la probalité d'avoir choisi cette réponse\n",
    "proba = tk.Label(font=(\"Helvetica\", 20))\n",
    "proba.pack()\n",
    "\n",
    "# bouton qui lance la reconaissance\n",
    "btn_recognize = tk.Button(text=\"Recognize\",command=???????)\n",
    "btn_recognize.????????\n",
    "\n",
    "# bouton qui reset la fenêtre\n",
    "btn_clear = tk.Button(text=\"clear\",command=???????)\n",
    "??????.pack()\n",
    "\n",
    "# fonction qui lance le programme\n",
    "fenetre.mainloop()"
   ]
  },
  {
   "cell_type": "markdown",
   "metadata": {},
   "source": [
    "## Correction"
   ]
  },
  {
   "cell_type": "code",
   "execution_count": 5,
   "metadata": {},
   "outputs": [],
   "source": [
    "# importation des bibliothèques\n",
    "\n",
    "from PIL import Image, ImageDraw\n",
    "import tkinter as tk\n",
    "\n",
    "import numpy as np\n",
    "import tensorflow as tf\n",
    "\n",
    "import operator\n",
    "\n",
    "# création de la fenêtre d'affichage\n",
    "\n",
    "# définition des variables\n",
    "last_point = None\n",
    "\n",
    "width = 200  # largeur de la fenêtre\n",
    "height = 200 # hauteur de la fenêtre\n",
    "center = height//2 # calcul du centre\n",
    "black = (255, 255) # couleur du crayon\n",
    "white = (0, 255) # couleur du fond\n",
    "pen_width = 7 # largeur du crayon\n",
    "\n",
    "valid_rect_obj = None\n",
    "valid_rect = (width, height, 0, 0)\n",
    "\n",
    "sample_img_size = 28 # taille des images en pixels\n",
    "\n",
    "# chemin vers le model\n",
    "checkpoint_path = 'models/model.{epoch:02d}-{val_loss:.2f}.ckpt'\n",
    "model = tf.keras.models.load_model(\"modele_chiffres_manuscrits\")\n",
    "\n",
    "\n",
    "# fonction principale, qui prend les contours de l'images et y applique la détection des chiffres\n",
    "def recognize():\n",
    "    # crop image\n",
    "    global valid_rect\n",
    "    valid_w = valid_rect[2] - valid_rect[0]\n",
    "    valid_h = valid_rect[3] - valid_rect[1]\n",
    "    # newsize = max(valid_w, valid_h)\n",
    "    if valid_w > valid_h:\n",
    "        valid_rect = (valid_rect[0], valid_rect[1] - (valid_w - valid_h)//2, valid_rect[2], valid_rect[3] + (valid_w - valid_h)//2)\n",
    "    else:\n",
    "        valid_rect = (valid_rect[0] - (valid_h - valid_w)//2, valid_rect[1], valid_rect[2] + (valid_h - valid_w)//2, valid_rect[3])\n",
    "    margin = 4 * (100 // 28) + pen_width\n",
    "    valid_rect = tuple(map(operator.sub, valid_rect, (margin, margin, -margin, -margin)))\n",
    "\n",
    "    new_img = output_image.crop(valid_rect).resize((sample_img_size, sample_img_size), Image.LINEAR)\n",
    "    new_img.convert(\"RGB\").save(\"user_input.jpg\")\n",
    "    pixels = np.array(new_img.getdata(), np.float32)\n",
    "    pixels = pixels[:,0] / 255.0\n",
    "    pixels = np.reshape(pixels, [1, sample_img_size * sample_img_size])\n",
    "    \n",
    "    pixels =  pixels.reshape(-1,28,28,1)\n",
    "    \n",
    "    probabilities = model.predict(pixels, steps=1)\n",
    "\n",
    "    pred = np.argmax(probabilities, axis=1)\n",
    "\n",
    "    label.configure(text= str(pred))\n",
    "    proba.configure(text= str(probabilities[0, pred]))\n",
    "    \n",
    "def clear(): # fonction qui permet de reset le dessin\n",
    "    global last_point\n",
    "    global valid_rect\n",
    "    global valid_rect_obj\n",
    "    last_point = None\n",
    "    valid_rect = (width, height, 0, 0)\n",
    "    valid_rect_obj = None\n",
    "    canvas.delete(\"all\")\n",
    "    draw.rectangle((0, 0, width, height), white)\n",
    "\n",
    "def buttonRelease(event): # fonction qui permet de reset la capture du dessin\n",
    "    global last_point\n",
    "    last_point = None\n",
    "\n",
    "# fonction qui permet de capturer la zone de dessin\n",
    "def buttonMotion(event):\n",
    "    global last_point\n",
    "    global valid_rect\n",
    "    global valid_rect_obj\n",
    "    if last_point is not None:\n",
    "        last_x = last_point[0]\n",
    "        last_y = last_point[1]\n",
    "        canvas.create_line(last_x, last_y, event.x, event.y, fill=\"black\", width = pen_width)\n",
    "        draw.line([last_x, last_y, event.x, event.y], fill=black, width = pen_width)\n",
    "    last_point = (event.x, event.y)\n",
    "    valid_rect = (min(valid_rect[0], event.x), min(valid_rect[1], event.y),max(valid_rect[2], event.x), max(valid_rect[3], event.y))\n",
    "    if valid_rect_obj is not None:\n",
    "        canvas.delete(valid_rect_obj)    \n",
    "    valid_rect_obj = canvas.create_rectangle(valid_rect)\n",
    "\n",
    "# création de l'objet Tkinter\n",
    "fenetre = tk.Tk()\n",
    "\n",
    "# création de la fenêtre de dessin de Tkinter\n",
    "canvas = tk.Canvas(fenetre, width=width, height=height, bg='white')\n",
    "canvas.pack()\n",
    "\n",
    "# créer une image PIL vide et créer un objet sur lequel dessiner\n",
    "output_image = Image.new(\"LA\", (width, height), color = white)\n",
    "draw = ImageDraw.Draw(output_image)\n",
    "canvas.pack(expand='YES', fill='both')\n",
    "canvas.bind(\"<B1-Motion>\", buttonMotion)\n",
    "canvas.bind(\"<ButtonRelease-1>\", buttonRelease)\n",
    "\n",
    "# affichage de la réponse\n",
    "label = tk.Label(text=\"Thinking..\", font=(\"Helvetica\", 30))\n",
    "label.pack()\n",
    "\n",
    "# affichage de la probalité d'avoir choisi cette réponse\n",
    "proba = tk.Label(font=(\"Helvetica\", 20))\n",
    "proba.pack()\n",
    "\n",
    "# boutton qui lance la reconaissance\n",
    "btn_recognize = tk.Button(text=\"Recognize\",command=recognize)\n",
    "btn_recognize.pack()\n",
    "\n",
    "# boutton qui reset la fenêtre\n",
    "btn_clear = tk.Button(text=\"clear\",command=clear)\n",
    "btn_clear.pack()\n",
    "\n",
    "# fonction qui lance le programme\n",
    "fenetre.mainloop()"
   ]
  },
  {
   "cell_type": "code",
   "execution_count": null,
   "metadata": {},
   "outputs": [],
   "source": []
  }
 ],
 "metadata": {
  "kernelspec": {
   "display_name": "Python 3",
   "language": "python",
   "name": "python3"
  },
  "language_info": {
   "codemirror_mode": {
    "name": "ipython",
    "version": 3
   },
   "file_extension": ".py",
   "mimetype": "text/x-python",
   "name": "python",
   "nbconvert_exporter": "python",
   "pygments_lexer": "ipython3",
   "version": "3.8.5"
  }
 },
 "nbformat": 4,
 "nbformat_minor": 4
}
